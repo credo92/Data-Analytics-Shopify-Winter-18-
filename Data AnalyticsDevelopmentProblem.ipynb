{
 "cells": [
  {
   "cell_type": "code",
   "execution_count": 1,
   "metadata": {
    "scrolled": true
   },
   "outputs": [
    {
     "name": "stdout",
     "output_type": "stream",
     "text": [
      "Max Rows :5001\n",
      "Sum of Order Amount : 15725640.0\n",
      "Sum of Total Items in each order: 43936.0\n",
      "Average Order Value : 357.921522214\n"
     ]
    }
   ],
   "source": [
    "import os\n",
    "from openpyxl import load_workbook\n",
    "os.getcwd()\n",
    "os.chdir('/Users/vipulsrivastav/Downloads/')\n",
    "os.getcwd()\n",
    "wb = load_workbook(filename = 'DataChallengeWinter2018.xlsx')\n",
    "sheet = wb['Sheet1']\n",
    "print('Max Rows :' + str(sheet.max_row) )\n",
    "sum = 0.0\n",
    "for x in range(2, sheet.max_row+1):\n",
    "    #print(sheet['D'+str(x)].value)\n",
    "    sum = sum + sheet['D'+str(x)].value\n",
    "sumOrderAmount = sum    \n",
    "print(\"Sum of Order Amount : \"+str(sumOrderAmount)  )  \n",
    "\n",
    "sum= 0\n",
    "\n",
    "for x in range(2, sheet.max_row+1):\n",
    "    #print(sheet['D'+str(x)].value)\n",
    "    sum = sum + sheet['E'+str(x)].value\n",
    "\n",
    "sumTotalItems= sum    \n",
    "print(\"Sum of Total Items in each order: \"+str(sumTotalItems))\n",
    "\n",
    "AOV = sumOrderAmount/sumTotalItems\n",
    "\n",
    "print(\"Average Order Value : \" +str(AOV))\n"
   ]
  },
  {
   "cell_type": "code",
   "execution_count": null,
   "metadata": {
    "collapsed": true
   },
   "outputs": [],
   "source": []
  },
  {
   "cell_type": "code",
   "execution_count": null,
   "metadata": {
    "collapsed": true
   },
   "outputs": [],
   "source": []
  }
 ],
 "metadata": {
  "anaconda-cloud": {},
  "kernelspec": {
   "display_name": "Python 2",
   "language": "python",
   "name": "python2"
  },
  "language_info": {
   "codemirror_mode": {
    "name": "ipython",
    "version": 2
   },
   "file_extension": ".py",
   "mimetype": "text/x-python",
   "name": "python",
   "nbconvert_exporter": "python",
   "pygments_lexer": "ipython2",
   "version": "2.7.13"
  }
 },
 "nbformat": 4,
 "nbformat_minor": 1
}
